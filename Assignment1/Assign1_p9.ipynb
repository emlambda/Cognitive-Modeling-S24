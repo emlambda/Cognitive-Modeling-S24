{
 "cells": [
  {
   "cell_type": "code",
   "execution_count": 1,
   "id": "fccd6f51",
   "metadata": {},
   "outputs": [],
   "source": [
    "import numpy as np\n",
    "\n",
    "def multivariate_normal_density(x, mu, Sigma):\n",
    "    k = len(mu)\n",
    "    Sigma_det = np.linalg.det(Sigma)\n",
    "    Sigma_inv = np.linalg.inv(Sigma)\n",
    "    normalization_factor = np.sqrt((2 * np.pi) ** k * Sigma_det)\n",
    "    x_mu_diff = x - mu\n",
    "    exponent = -0.5 * np.dot(x_mu_diff.T, np.dot(Sigma_inv, x_mu_diff))\n",
    "    return np.exp(exponent) / normalization_factor\n"
   ]
  },
  {
   "cell_type": "code",
   "execution_count": 3,
   "id": "6e9030e9",
   "metadata": {},
   "outputs": [
    {
     "name": "stdout",
     "output_type": "stream",
     "text": [
      "Spherical Gaussian:\n",
      "ChatGPT function density: 0.022799327319919294\n",
      "SciPy density: 0.022799327319919297\n",
      "Difference: 3.469446951953614e-18\n",
      "\n",
      "Diagonal Gaussian:\n",
      "ChatGPT function density: 0.029274915762159584\n",
      "SciPy density: 0.02927491576215958\n",
      "Difference: 3.469446951953614e-18\n",
      "\n",
      "Full-covariance Gaussian:\n",
      "ChatGPT function density: 0.01628216470064355\n",
      "SciPy density: 0.01628216470064355\n",
      "Difference: 0.0\n",
      "\n"
     ]
    }
   ],
   "source": [
    "from scipy.stats import multivariate_normal\n",
    "\n",
    "# Test parameters\n",
    "x = np.array([1, 2])\n",
    "mu = np.array([0, 0])\n",
    "\n",
    "# Spherical Gaussian\n",
    "Sigma_spherical = np.eye(2) * 2  # Identity matrix scaled by 2\n",
    "\n",
    "# Diagonal Gaussian\n",
    "Sigma_diagonal = np.diag([1, 4])  # Diagonal covariance matrix\n",
    "\n",
    "# Full-covariance Gaussian\n",
    "Sigma_full = np.array([[2, 0.5], [0.5, 1]])  # Full covariance matrix\n",
    "\n",
    "# Define a function for comparison\n",
    "def compare_densities(x, mu, Sigma):\n",
    "    custom_density = multivariate_normal_density(x, mu, Sigma)\n",
    "    scipy_density = multivariate_normal(mean=mu, cov=Sigma).pdf(x)\n",
    "    print(f\"ChatGPT function density: {custom_density}\")\n",
    "    print(f\"SciPy density: {scipy_density}\")\n",
    "    print(f\"Difference: {np.abs(custom_density - scipy_density)}\\n\")\n",
    "\n",
    "# Perform comparisons\n",
    "print(\"Spherical Gaussian:\")\n",
    "compare_densities(x, mu, Sigma_spherical)\n",
    "\n",
    "print(\"Diagonal Gaussian:\")\n",
    "compare_densities(x, mu, Sigma_diagonal)\n",
    "\n",
    "print(\"Full-covariance Gaussian:\")\n",
    "compare_densities(x, mu, Sigma_full)"
   ]
  },
  {
   "cell_type": "code",
   "execution_count": null,
   "id": "f91cdcf1",
   "metadata": {},
   "outputs": [],
   "source": []
  }
 ],
 "metadata": {
  "kernelspec": {
   "display_name": "Python 3 (ipykernel)",
   "language": "python",
   "name": "python3"
  },
  "language_info": {
   "codemirror_mode": {
    "name": "ipython",
    "version": 3
   },
   "file_extension": ".py",
   "mimetype": "text/x-python",
   "name": "python",
   "nbconvert_exporter": "python",
   "pygments_lexer": "ipython3",
   "version": "3.9.13"
  }
 },
 "nbformat": 4,
 "nbformat_minor": 5
}
